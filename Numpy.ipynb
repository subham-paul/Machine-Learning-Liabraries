{
 "cells": [
  {
   "cell_type": "markdown",
   "id": "material-journal",
   "metadata": {},
   "source": [
    "# NUMPY LEARNING"
   ]
  },
  {
   "cell_type": "code",
   "execution_count": 1,
   "id": "seasonal-segment",
   "metadata": {},
   "outputs": [],
   "source": [
    "import numpy as ap"
   ]
  },
  {
   "cell_type": "code",
   "execution_count": 2,
   "id": "concrete-processing",
   "metadata": {},
   "outputs": [],
   "source": [
    "myarr= ap.array([[3,5,7,9],\n",
    "                 [10,20,30,40]])   # Array value input"
   ]
  },
  {
   "cell_type": "code",
   "execution_count": 3,
   "id": "ready-lebanon",
   "metadata": {},
   "outputs": [
    {
     "data": {
      "text/plain": [
       "5"
      ]
     },
     "execution_count": 3,
     "metadata": {},
     "output_type": "execute_result"
    }
   ],
   "source": [
    "myarr[0,1]"
   ]
  },
  {
   "cell_type": "code",
   "execution_count": 4,
   "id": "banned-europe",
   "metadata": {},
   "outputs": [
    {
     "data": {
      "text/plain": [
       "(2, 4)"
      ]
     },
     "execution_count": 4,
     "metadata": {},
     "output_type": "execute_result"
    }
   ],
   "source": [
    "myarr.shape      # For checking array dimension"
   ]
  },
  {
   "cell_type": "code",
   "execution_count": 5,
   "id": "comparable-martin",
   "metadata": {},
   "outputs": [],
   "source": [
    "myarr.shape=(4,2)   #For changing array dimension"
   ]
  },
  {
   "cell_type": "code",
   "execution_count": 6,
   "id": "dying-trigger",
   "metadata": {},
   "outputs": [
    {
     "data": {
      "text/plain": [
       "(4, 2)"
      ]
     },
     "execution_count": 6,
     "metadata": {},
     "output_type": "execute_result"
    }
   ],
   "source": [
    "myarr.shape"
   ]
  },
  {
   "cell_type": "code",
   "execution_count": 7,
   "id": "instructional-description",
   "metadata": {},
   "outputs": [
    {
     "data": {
      "text/plain": [
       "array([[ 3,  5],\n",
       "       [ 7,  9],\n",
       "       [10, 20],\n",
       "       [30, 40]])"
      ]
     },
     "execution_count": 7,
     "metadata": {},
     "output_type": "execute_result"
    }
   ],
   "source": [
    "myarr"
   ]
  },
  {
   "cell_type": "code",
   "execution_count": 8,
   "id": "collected-breath",
   "metadata": {},
   "outputs": [
    {
     "data": {
      "text/plain": [
       "dtype('int64')"
      ]
     },
     "execution_count": 8,
     "metadata": {},
     "output_type": "execute_result"
    }
   ],
   "source": [
    "myarr.dtype    # For checking array typing"
   ]
  },
  {
   "cell_type": "code",
   "execution_count": 9,
   "id": "architectural-elite",
   "metadata": {},
   "outputs": [],
   "source": [
    "myarr[0,1]=45        #For changing array value"
   ]
  },
  {
   "cell_type": "code",
   "execution_count": 10,
   "id": "engaging-democrat",
   "metadata": {},
   "outputs": [
    {
     "data": {
      "text/plain": [
       "array([[ 3, 45],\n",
       "       [ 7,  9],\n",
       "       [10, 20],\n",
       "       [30, 40]])"
      ]
     },
     "execution_count": 10,
     "metadata": {},
     "output_type": "execute_result"
    }
   ],
   "source": [
    "myarr"
   ]
  },
  {
   "cell_type": "code",
   "execution_count": 11,
   "id": "portuguese-forward",
   "metadata": {},
   "outputs": [],
   "source": [
    "zeros =ap.zeros ((2,5))                # zeros method"
   ]
  },
  {
   "cell_type": "code",
   "execution_count": 12,
   "id": "caroline-johnson",
   "metadata": {},
   "outputs": [
    {
     "data": {
      "text/plain": [
       "array([[0., 0., 0., 0., 0.],\n",
       "       [0., 0., 0., 0., 0.]])"
      ]
     },
     "execution_count": 12,
     "metadata": {},
     "output_type": "execute_result"
    }
   ],
   "source": [
    "zeros"
   ]
  },
  {
   "cell_type": "markdown",
   "id": "bottom-characterization",
   "metadata": {},
   "source": [
    "## Full method"
   ]
  },
  {
   "cell_type": "code",
   "execution_count": 13,
   "id": "hispanic-compression",
   "metadata": {},
   "outputs": [],
   "source": [
    "n=ap.full((3,3),22)"
   ]
  },
  {
   "cell_type": "code",
   "execution_count": 14,
   "id": "polished-spirit",
   "metadata": {},
   "outputs": [
    {
     "data": {
      "text/plain": [
       "array([[22, 22, 22],\n",
       "       [22, 22, 22],\n",
       "       [22, 22, 22]])"
      ]
     },
     "execution_count": 14,
     "metadata": {},
     "output_type": "execute_result"
    }
   ],
   "source": [
    "n"
   ]
  },
  {
   "cell_type": "markdown",
   "id": "proprietary-blocking",
   "metadata": {},
   "source": [
    "## Joining NumPy Arrays"
   ]
  },
  {
   "cell_type": "code",
   "execution_count": 15,
   "id": "naughty-buddy",
   "metadata": {},
   "outputs": [],
   "source": [
    "v1=ap.array([10,20,30])\n",
    "v2=ap.array([40,50,60])"
   ]
  },
  {
   "cell_type": "code",
   "execution_count": 16,
   "id": "fallen-emperor",
   "metadata": {},
   "outputs": [
    {
     "data": {
      "text/plain": [
       "array([[10, 20, 30],\n",
       "       [40, 50, 60]])"
      ]
     },
     "execution_count": 16,
     "metadata": {},
     "output_type": "execute_result"
    }
   ],
   "source": [
    "ap.vstack((v1,v2))    #vstack() method"
   ]
  },
  {
   "cell_type": "code",
   "execution_count": 17,
   "id": "correct-corpus",
   "metadata": {},
   "outputs": [
    {
     "data": {
      "text/plain": [
       "array([10, 20, 30, 40, 50, 60])"
      ]
     },
     "execution_count": 17,
     "metadata": {},
     "output_type": "execute_result"
    }
   ],
   "source": [
    "ap.hstack((v1,v2))    #hstack() method"
   ]
  },
  {
   "cell_type": "code",
   "execution_count": 18,
   "id": "special-treasury",
   "metadata": {},
   "outputs": [
    {
     "data": {
      "text/plain": [
       "array([[10, 40],\n",
       "       [20, 50],\n",
       "       [30, 60]])"
      ]
     },
     "execution_count": 18,
     "metadata": {},
     "output_type": "execute_result"
    }
   ],
   "source": [
    "ap.column_stack((v1,v2))     #column_stack() method"
   ]
  },
  {
   "cell_type": "markdown",
   "id": "southeast-secondary",
   "metadata": {},
   "source": [
    "## range method"
   ]
  },
  {
   "cell_type": "code",
   "execution_count": 19,
   "id": "baking-accessory",
   "metadata": {},
   "outputs": [],
   "source": [
    "rng = ap.arange(15)"
   ]
  },
  {
   "cell_type": "code",
   "execution_count": 20,
   "id": "instructional-production",
   "metadata": {},
   "outputs": [
    {
     "data": {
      "text/plain": [
       "array([ 0,  1,  2,  3,  4,  5,  6,  7,  8,  9, 10, 11, 12, 13, 14])"
      ]
     },
     "execution_count": 20,
     "metadata": {},
     "output_type": "execute_result"
    }
   ],
   "source": [
    "rng"
   ]
  },
  {
   "cell_type": "code",
   "execution_count": 21,
   "id": "corrected-indiana",
   "metadata": {},
   "outputs": [],
   "source": [
    "rng1 = ap.arange(10,20)"
   ]
  },
  {
   "cell_type": "code",
   "execution_count": 22,
   "id": "monetary-saver",
   "metadata": {},
   "outputs": [
    {
     "data": {
      "text/plain": [
       "array([10, 11, 12, 13, 14, 15, 16, 17, 18, 19])"
      ]
     },
     "execution_count": 22,
     "metadata": {},
     "output_type": "execute_result"
    }
   ],
   "source": [
    "rng1"
   ]
  },
  {
   "cell_type": "code",
   "execution_count": 23,
   "id": "narrow-respect",
   "metadata": {},
   "outputs": [],
   "source": [
    "rng2 = ap.arange(10,50,5)"
   ]
  },
  {
   "cell_type": "code",
   "execution_count": 24,
   "id": "weighted-forest",
   "metadata": {},
   "outputs": [
    {
     "data": {
      "text/plain": [
       "array([10, 15, 20, 25, 30, 35, 40, 45])"
      ]
     },
     "execution_count": 24,
     "metadata": {},
     "output_type": "execute_result"
    }
   ],
   "source": [
    "rng2"
   ]
  },
  {
   "cell_type": "markdown",
   "id": "separate-language",
   "metadata": {},
   "source": [
    "## random method"
   ]
  },
  {
   "cell_type": "code",
   "execution_count": 25,
   "id": "speaking-reserve",
   "metadata": {},
   "outputs": [],
   "source": [
    "random = ap.random.randint(100,200)"
   ]
  },
  {
   "cell_type": "code",
   "execution_count": 26,
   "id": "vocal-expert",
   "metadata": {},
   "outputs": [
    {
     "data": {
      "text/plain": [
       "188"
      ]
     },
     "execution_count": 26,
     "metadata": {},
     "output_type": "execute_result"
    }
   ],
   "source": [
    "random"
   ]
  },
  {
   "cell_type": "code",
   "execution_count": 27,
   "id": "described-biodiversity",
   "metadata": {},
   "outputs": [],
   "source": [
    "random = ap.random.randint(1,100,5)"
   ]
  },
  {
   "cell_type": "code",
   "execution_count": 28,
   "id": "educational-observation",
   "metadata": {},
   "outputs": [
    {
     "data": {
      "text/plain": [
       "array([55,  2, 25, 90, 50])"
      ]
     },
     "execution_count": 28,
     "metadata": {},
     "output_type": "execute_result"
    }
   ],
   "source": [
    "random"
   ]
  },
  {
   "cell_type": "code",
   "execution_count": 29,
   "id": "heavy-territory",
   "metadata": {},
   "outputs": [],
   "source": [
    "lspace = ap.linspace(1,4,10)"
   ]
  },
  {
   "cell_type": "code",
   "execution_count": 30,
   "id": "spiritual-giving",
   "metadata": {},
   "outputs": [
    {
     "data": {
      "text/plain": [
       "array([1.        , 1.33333333, 1.66666667, 2.        , 2.33333333,\n",
       "       2.66666667, 3.        , 3.33333333, 3.66666667, 4.        ])"
      ]
     },
     "execution_count": 30,
     "metadata": {},
     "output_type": "execute_result"
    }
   ],
   "source": [
    "lspace"
   ]
  },
  {
   "cell_type": "code",
   "execution_count": 31,
   "id": "aging-harbor",
   "metadata": {},
   "outputs": [],
   "source": [
    "n1=ap.full((2,2),10)"
   ]
  },
  {
   "cell_type": "code",
   "execution_count": 32,
   "id": "written-baltimore",
   "metadata": {},
   "outputs": [
    {
     "data": {
      "text/plain": [
       "array([[10, 10],\n",
       "       [10, 10]])"
      ]
     },
     "execution_count": 32,
     "metadata": {},
     "output_type": "execute_result"
    }
   ],
   "source": [
    "n1"
   ]
  },
  {
   "cell_type": "markdown",
   "id": "colonial-superior",
   "metadata": {},
   "source": [
    "## NumPy Array Mathematics"
   ]
  },
  {
   "cell_type": "code",
   "execution_count": 33,
   "id": "focused-nepal",
   "metadata": {},
   "outputs": [],
   "source": [
    "n1= ap.array([10,20,30])\n",
    "n2=ap.array([40,50,60])"
   ]
  },
  {
   "cell_type": "code",
   "execution_count": 34,
   "id": "settled-percentage",
   "metadata": {},
   "outputs": [
    {
     "data": {
      "text/plain": [
       "array([50, 70, 90])"
      ]
     },
     "execution_count": 34,
     "metadata": {},
     "output_type": "execute_result"
    }
   ],
   "source": [
    "ap.sum([n1,n2], axis=0)"
   ]
  },
  {
   "cell_type": "code",
   "execution_count": 35,
   "id": "elegant-virginia",
   "metadata": {},
   "outputs": [
    {
     "data": {
      "text/plain": [
       "array([ 60, 150])"
      ]
     },
     "execution_count": 35,
     "metadata": {},
     "output_type": "execute_result"
    }
   ],
   "source": [
    "ap.sum([n1,n2], axis=1)"
   ]
  },
  {
   "cell_type": "code",
   "execution_count": 36,
   "id": "satisfactory-skating",
   "metadata": {},
   "outputs": [
    {
     "data": {
      "text/plain": [
       "210"
      ]
     },
     "execution_count": 36,
     "metadata": {},
     "output_type": "execute_result"
    }
   ],
   "source": [
    "ap.sum([n1,n2])         # sum two variables"
   ]
  },
  {
   "cell_type": "code",
   "execution_count": 37,
   "id": "solved-lying",
   "metadata": {},
   "outputs": [
    {
     "data": {
      "text/plain": [
       "array([11, 21, 31])"
      ]
     },
     "execution_count": 37,
     "metadata": {},
     "output_type": "execute_result"
    }
   ],
   "source": [
    "n1=n1+1                  # Addition\n",
    "n1                   "
   ]
  },
  {
   "cell_type": "code",
   "execution_count": 38,
   "id": "statutory-dover",
   "metadata": {},
   "outputs": [
    {
     "data": {
      "text/plain": [
       "array([22, 42, 62])"
      ]
     },
     "execution_count": 38,
     "metadata": {},
     "output_type": "execute_result"
    }
   ],
   "source": [
    "n1=n1*2          #Multiplication\n",
    "n1"
   ]
  },
  {
   "cell_type": "code",
   "execution_count": 39,
   "id": "cooperative-hydrogen",
   "metadata": {},
   "outputs": [
    {
     "data": {
      "text/plain": [
       "array([21, 41, 61])"
      ]
     },
     "execution_count": 39,
     "metadata": {},
     "output_type": "execute_result"
    }
   ],
   "source": [
    "n1=n1-1            # Subtraction\n",
    "n1"
   ]
  },
  {
   "cell_type": "code",
   "execution_count": 40,
   "id": "flexible-extension",
   "metadata": {},
   "outputs": [
    {
     "data": {
      "text/plain": [
       "array([20., 25., 30.])"
      ]
     },
     "execution_count": 40,
     "metadata": {},
     "output_type": "execute_result"
    }
   ],
   "source": [
    "n2=n2/2            #Division\n",
    "n2"
   ]
  },
  {
   "cell_type": "markdown",
   "id": "chinese-advantage",
   "metadata": {},
   "source": [
    "## NumPy Array Functions"
   ]
  },
  {
   "cell_type": "code",
   "execution_count": 41,
   "id": "further-utility",
   "metadata": {},
   "outputs": [
    {
     "data": {
      "text/plain": [
       "30.0"
      ]
     },
     "execution_count": 41,
     "metadata": {},
     "output_type": "execute_result"
    }
   ],
   "source": [
    "n1=ap.array([10,20,30,40,50])\n",
    "ap.mean(n1)"
   ]
  },
  {
   "cell_type": "code",
   "execution_count": 42,
   "id": "fuzzy-disposition",
   "metadata": {},
   "outputs": [
    {
     "data": {
      "text/plain": [
       "array([10, 20, 30, 40, 50])"
      ]
     },
     "execution_count": 42,
     "metadata": {},
     "output_type": "execute_result"
    }
   ],
   "source": [
    "n1"
   ]
  },
  {
   "cell_type": "code",
   "execution_count": 43,
   "id": "absolute-traffic",
   "metadata": {},
   "outputs": [
    {
     "data": {
      "text/plain": [
       "14.142135623730951"
      ]
     },
     "execution_count": 43,
     "metadata": {},
     "output_type": "execute_result"
    }
   ],
   "source": [
    "ap.std(n1)"
   ]
  },
  {
   "cell_type": "code",
   "execution_count": 44,
   "id": "restricted-spice",
   "metadata": {},
   "outputs": [
    {
     "data": {
      "text/plain": [
       "30.0"
      ]
     },
     "execution_count": 44,
     "metadata": {},
     "output_type": "execute_result"
    }
   ],
   "source": [
    "ap.median(n1)"
   ]
  },
  {
   "cell_type": "markdown",
   "id": "perceived-rouge",
   "metadata": {},
   "source": [
    "## NumPy intersection & Diff"
   ]
  },
  {
   "cell_type": "code",
   "execution_count": 45,
   "id": "comprehensive-portuguese",
   "metadata": {},
   "outputs": [],
   "source": [
    "v1=ap.array([10,20,30,40,50])\n",
    "v2=ap.array([40,50,60,70,80])"
   ]
  },
  {
   "cell_type": "code",
   "execution_count": 46,
   "id": "contemporary-baker",
   "metadata": {},
   "outputs": [
    {
     "data": {
      "text/plain": [
       "array([40, 50])"
      ]
     },
     "execution_count": 46,
     "metadata": {},
     "output_type": "execute_result"
    }
   ],
   "source": [
    "ap.intersect1d(v1,v2)  # chcek same values"
   ]
  },
  {
   "cell_type": "code",
   "execution_count": 47,
   "id": "combined-deposit",
   "metadata": {},
   "outputs": [
    {
     "data": {
      "text/plain": [
       "array([10, 20, 30])"
      ]
     },
     "execution_count": 47,
     "metadata": {},
     "output_type": "execute_result"
    }
   ],
   "source": [
    "ap.setdiff1d(v1,v2)   # check diff value (v1-v2)"
   ]
  },
  {
   "cell_type": "code",
   "execution_count": 48,
   "id": "absent-hierarchy",
   "metadata": {},
   "outputs": [
    {
     "data": {
      "text/plain": [
       "array([60, 70, 80])"
      ]
     },
     "execution_count": 48,
     "metadata": {},
     "output_type": "execute_result"
    }
   ],
   "source": [
    "ap.setdiff1d(v2,v1)   # check diff value (v2-v1)"
   ]
  },
  {
   "cell_type": "markdown",
   "id": "stupid-semester",
   "metadata": {},
   "source": [
    "## NumPy save & load"
   ]
  },
  {
   "cell_type": "code",
   "execution_count": 49,
   "id": "acquired-frederick",
   "metadata": {},
   "outputs": [],
   "source": [
    "x1=ap.array([10,20,30,40,50,60])"
   ]
  },
  {
   "cell_type": "code",
   "execution_count": 50,
   "id": "continent-southeast",
   "metadata": {},
   "outputs": [],
   "source": [
    "ap.save('my_num',x1)"
   ]
  },
  {
   "cell_type": "code",
   "execution_count": 51,
   "id": "decreased-snake",
   "metadata": {},
   "outputs": [
    {
     "data": {
      "text/plain": [
       "array([10, 20, 30, 40, 50, 60])"
      ]
     },
     "execution_count": 51,
     "metadata": {},
     "output_type": "execute_result"
    }
   ],
   "source": [
    "x2=ap.load('my_num.npy')\n",
    "x2"
   ]
  },
  {
   "cell_type": "code",
   "execution_count": null,
   "id": "dynamic-benjamin",
   "metadata": {},
   "outputs": [],
   "source": []
  }
 ],
 "metadata": {
  "kernelspec": {
   "display_name": "Python 3",
   "language": "python",
   "name": "python3"
  },
  "language_info": {
   "codemirror_mode": {
    "name": "ipython",
    "version": 3
   },
   "file_extension": ".py",
   "mimetype": "text/x-python",
   "name": "python",
   "nbconvert_exporter": "python",
   "pygments_lexer": "ipython3",
   "version": "3.8.5"
  }
 },
 "nbformat": 4,
 "nbformat_minor": 5
}
