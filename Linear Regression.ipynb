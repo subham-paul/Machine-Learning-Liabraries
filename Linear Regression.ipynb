{
 "cells": [
  {
   "cell_type": "markdown",
   "id": "coupled-variance",
   "metadata": {},
   "source": [
    "# Linear Regression Learning"
   ]
  },
  {
   "cell_type": "code",
   "execution_count": 1,
   "id": "chinese-florida",
   "metadata": {},
   "outputs": [],
   "source": [
    "import pandas as pd\n",
    "import datetime as dt"
   ]
  },
  {
   "cell_type": "code",
   "execution_count": 2,
   "id": "compressed-reservation",
   "metadata": {},
   "outputs": [],
   "source": [
    "covid = pd.read_csv('covid_19_india.csv', parse_dates=['Date'],dayfirst=True)"
   ]
  },
  {
   "cell_type": "code",
   "execution_count": 3,
   "id": "noble-diesel",
   "metadata": {},
   "outputs": [
    {
     "data": {
      "text/html": [
       "<div>\n",
       "<style scoped>\n",
       "    .dataframe tbody tr th:only-of-type {\n",
       "        vertical-align: middle;\n",
       "    }\n",
       "\n",
       "    .dataframe tbody tr th {\n",
       "        vertical-align: top;\n",
       "    }\n",
       "\n",
       "    .dataframe thead th {\n",
       "        text-align: right;\n",
       "    }\n",
       "</style>\n",
       "<table border=\"1\" class=\"dataframe\">\n",
       "  <thead>\n",
       "    <tr style=\"text-align: right;\">\n",
       "      <th></th>\n",
       "      <th>Sno</th>\n",
       "      <th>Date</th>\n",
       "      <th>Time</th>\n",
       "      <th>State/UnionTerritory</th>\n",
       "      <th>ConfirmedIndianNational</th>\n",
       "      <th>ConfirmedForeignNational</th>\n",
       "      <th>Cured</th>\n",
       "      <th>Deaths</th>\n",
       "      <th>Confirmed</th>\n",
       "    </tr>\n",
       "  </thead>\n",
       "  <tbody>\n",
       "    <tr>\n",
       "      <th>0</th>\n",
       "      <td>1</td>\n",
       "      <td>2020-01-30</td>\n",
       "      <td>6:00 PM</td>\n",
       "      <td>Kerala</td>\n",
       "      <td>1</td>\n",
       "      <td>0</td>\n",
       "      <td>0</td>\n",
       "      <td>0</td>\n",
       "      <td>1</td>\n",
       "    </tr>\n",
       "    <tr>\n",
       "      <th>1</th>\n",
       "      <td>2</td>\n",
       "      <td>2020-01-31</td>\n",
       "      <td>6:00 PM</td>\n",
       "      <td>Kerala</td>\n",
       "      <td>1</td>\n",
       "      <td>0</td>\n",
       "      <td>0</td>\n",
       "      <td>0</td>\n",
       "      <td>1</td>\n",
       "    </tr>\n",
       "    <tr>\n",
       "      <th>2</th>\n",
       "      <td>3</td>\n",
       "      <td>2020-02-01</td>\n",
       "      <td>6:00 PM</td>\n",
       "      <td>Kerala</td>\n",
       "      <td>2</td>\n",
       "      <td>0</td>\n",
       "      <td>0</td>\n",
       "      <td>0</td>\n",
       "      <td>2</td>\n",
       "    </tr>\n",
       "    <tr>\n",
       "      <th>3</th>\n",
       "      <td>4</td>\n",
       "      <td>2020-02-02</td>\n",
       "      <td>6:00 PM</td>\n",
       "      <td>Kerala</td>\n",
       "      <td>3</td>\n",
       "      <td>0</td>\n",
       "      <td>0</td>\n",
       "      <td>0</td>\n",
       "      <td>3</td>\n",
       "    </tr>\n",
       "    <tr>\n",
       "      <th>4</th>\n",
       "      <td>5</td>\n",
       "      <td>2020-02-03</td>\n",
       "      <td>6:00 PM</td>\n",
       "      <td>Kerala</td>\n",
       "      <td>3</td>\n",
       "      <td>0</td>\n",
       "      <td>0</td>\n",
       "      <td>0</td>\n",
       "      <td>3</td>\n",
       "    </tr>\n",
       "    <tr>\n",
       "      <th>...</th>\n",
       "      <td>...</td>\n",
       "      <td>...</td>\n",
       "      <td>...</td>\n",
       "      <td>...</td>\n",
       "      <td>...</td>\n",
       "      <td>...</td>\n",
       "      <td>...</td>\n",
       "      <td>...</td>\n",
       "      <td>...</td>\n",
       "    </tr>\n",
       "    <tr>\n",
       "      <th>14649</th>\n",
       "      <td>14650</td>\n",
       "      <td>2021-05-07</td>\n",
       "      <td>8:00 AM</td>\n",
       "      <td>Telangana</td>\n",
       "      <td>-</td>\n",
       "      <td>-</td>\n",
       "      <td>405164</td>\n",
       "      <td>2625</td>\n",
       "      <td>481640</td>\n",
       "    </tr>\n",
       "    <tr>\n",
       "      <th>14650</th>\n",
       "      <td>14651</td>\n",
       "      <td>2021-05-07</td>\n",
       "      <td>8:00 AM</td>\n",
       "      <td>Tripura</td>\n",
       "      <td>-</td>\n",
       "      <td>-</td>\n",
       "      <td>34153</td>\n",
       "      <td>404</td>\n",
       "      <td>36849</td>\n",
       "    </tr>\n",
       "    <tr>\n",
       "      <th>14651</th>\n",
       "      <td>14652</td>\n",
       "      <td>2021-05-07</td>\n",
       "      <td>8:00 AM</td>\n",
       "      <td>Uttarakhand</td>\n",
       "      <td>-</td>\n",
       "      <td>-</td>\n",
       "      <td>154147</td>\n",
       "      <td>3293</td>\n",
       "      <td>220351</td>\n",
       "    </tr>\n",
       "    <tr>\n",
       "      <th>14652</th>\n",
       "      <td>14653</td>\n",
       "      <td>2021-05-07</td>\n",
       "      <td>8:00 AM</td>\n",
       "      <td>Uttar Pradesh</td>\n",
       "      <td>-</td>\n",
       "      <td>-</td>\n",
       "      <td>1151571</td>\n",
       "      <td>14501</td>\n",
       "      <td>1425916</td>\n",
       "    </tr>\n",
       "    <tr>\n",
       "      <th>14653</th>\n",
       "      <td>14654</td>\n",
       "      <td>2021-05-07</td>\n",
       "      <td>8:00 AM</td>\n",
       "      <td>West Bengal</td>\n",
       "      <td>-</td>\n",
       "      <td>-</td>\n",
       "      <td>800328</td>\n",
       "      <td>11964</td>\n",
       "      <td>935066</td>\n",
       "    </tr>\n",
       "  </tbody>\n",
       "</table>\n",
       "<p>14654 rows × 9 columns</p>\n",
       "</div>"
      ],
      "text/plain": [
       "         Sno       Date     Time State/UnionTerritory ConfirmedIndianNational  \\\n",
       "0          1 2020-01-30  6:00 PM               Kerala                       1   \n",
       "1          2 2020-01-31  6:00 PM               Kerala                       1   \n",
       "2          3 2020-02-01  6:00 PM               Kerala                       2   \n",
       "3          4 2020-02-02  6:00 PM               Kerala                       3   \n",
       "4          5 2020-02-03  6:00 PM               Kerala                       3   \n",
       "...      ...        ...      ...                  ...                     ...   \n",
       "14649  14650 2021-05-07  8:00 AM            Telangana                       -   \n",
       "14650  14651 2021-05-07  8:00 AM              Tripura                       -   \n",
       "14651  14652 2021-05-07  8:00 AM          Uttarakhand                       -   \n",
       "14652  14653 2021-05-07  8:00 AM        Uttar Pradesh                       -   \n",
       "14653  14654 2021-05-07  8:00 AM          West Bengal                       -   \n",
       "\n",
       "      ConfirmedForeignNational    Cured  Deaths  Confirmed  \n",
       "0                            0        0       0          1  \n",
       "1                            0        0       0          1  \n",
       "2                            0        0       0          2  \n",
       "3                            0        0       0          3  \n",
       "4                            0        0       0          3  \n",
       "...                        ...      ...     ...        ...  \n",
       "14649                        -   405164    2625     481640  \n",
       "14650                        -    34153     404      36849  \n",
       "14651                        -   154147    3293     220351  \n",
       "14652                        -  1151571   14501    1425916  \n",
       "14653                        -   800328   11964     935066  \n",
       "\n",
       "[14654 rows x 9 columns]"
      ]
     },
     "execution_count": 3,
     "metadata": {},
     "output_type": "execute_result"
    }
   ],
   "source": [
    "covid"
   ]
  },
  {
   "cell_type": "code",
   "execution_count": 4,
   "id": "addressed-burlington",
   "metadata": {},
   "outputs": [],
   "source": [
    "covid = covid[['Date', 'State/UnionTerritory', 'Cured', 'Deaths', 'Confirmed']]\n",
    "covid.columns=['date', 'state', 'cured', 'deaths', 'confirmed']"
   ]
  },
  {
   "cell_type": "code",
   "execution_count": 5,
   "id": "packed-switzerland",
   "metadata": {},
   "outputs": [
    {
     "data": {
      "text/html": [
       "<div>\n",
       "<style scoped>\n",
       "    .dataframe tbody tr th:only-of-type {\n",
       "        vertical-align: middle;\n",
       "    }\n",
       "\n",
       "    .dataframe tbody tr th {\n",
       "        vertical-align: top;\n",
       "    }\n",
       "\n",
       "    .dataframe thead th {\n",
       "        text-align: right;\n",
       "    }\n",
       "</style>\n",
       "<table border=\"1\" class=\"dataframe\">\n",
       "  <thead>\n",
       "    <tr style=\"text-align: right;\">\n",
       "      <th></th>\n",
       "      <th>date</th>\n",
       "      <th>state</th>\n",
       "      <th>cured</th>\n",
       "      <th>deaths</th>\n",
       "      <th>confirmed</th>\n",
       "    </tr>\n",
       "  </thead>\n",
       "  <tbody>\n",
       "    <tr>\n",
       "      <th>0</th>\n",
       "      <td>2020-01-30</td>\n",
       "      <td>Kerala</td>\n",
       "      <td>0</td>\n",
       "      <td>0</td>\n",
       "      <td>1</td>\n",
       "    </tr>\n",
       "    <tr>\n",
       "      <th>1</th>\n",
       "      <td>2020-01-31</td>\n",
       "      <td>Kerala</td>\n",
       "      <td>0</td>\n",
       "      <td>0</td>\n",
       "      <td>1</td>\n",
       "    </tr>\n",
       "    <tr>\n",
       "      <th>2</th>\n",
       "      <td>2020-02-01</td>\n",
       "      <td>Kerala</td>\n",
       "      <td>0</td>\n",
       "      <td>0</td>\n",
       "      <td>2</td>\n",
       "    </tr>\n",
       "    <tr>\n",
       "      <th>3</th>\n",
       "      <td>2020-02-02</td>\n",
       "      <td>Kerala</td>\n",
       "      <td>0</td>\n",
       "      <td>0</td>\n",
       "      <td>3</td>\n",
       "    </tr>\n",
       "    <tr>\n",
       "      <th>4</th>\n",
       "      <td>2020-02-03</td>\n",
       "      <td>Kerala</td>\n",
       "      <td>0</td>\n",
       "      <td>0</td>\n",
       "      <td>3</td>\n",
       "    </tr>\n",
       "  </tbody>\n",
       "</table>\n",
       "</div>"
      ],
      "text/plain": [
       "        date   state  cured  deaths  confirmed\n",
       "0 2020-01-30  Kerala      0       0          1\n",
       "1 2020-01-31  Kerala      0       0          1\n",
       "2 2020-02-01  Kerala      0       0          2\n",
       "3 2020-02-02  Kerala      0       0          3\n",
       "4 2020-02-03  Kerala      0       0          3"
      ]
     },
     "execution_count": 5,
     "metadata": {},
     "output_type": "execute_result"
    }
   ],
   "source": [
    "covid.head()"
   ]
  },
  {
   "cell_type": "code",
   "execution_count": 6,
   "id": "hired-hawaiian",
   "metadata": {},
   "outputs": [],
   "source": [
    "# confirmed = independent\n",
    "# cured = dependent\n",
    "y = covid[['cured']]   # dependent variable\n",
    "x = covid[['confirmed']]   #independent variable"
   ]
  },
  {
   "cell_type": "code",
   "execution_count": 7,
   "id": "retained-flight",
   "metadata": {},
   "outputs": [],
   "source": [
    "from sklearn.linear_model import LinearRegression  "
   ]
  },
  {
   "cell_type": "code",
   "execution_count": 8,
   "id": "smaller-ceramic",
   "metadata": {},
   "outputs": [],
   "source": [
    "from sklearn.model_selection import train_test_split #For model train and test"
   ]
  },
  {
   "cell_type": "code",
   "execution_count": 9,
   "id": "resident-hotel",
   "metadata": {},
   "outputs": [],
   "source": [
    "x_train,x_test,y_train,y_test=train_test_split(x,y,test_size=0.3)  \n",
    "# For 30% going to the test set observation and 70% go to the train set\n",
    "# For 4 result out"
   ]
  },
  {
   "cell_type": "code",
   "execution_count": 10,
   "id": "eight-writer",
   "metadata": {},
   "outputs": [],
   "source": [
    "lr = LinearRegression()  # For create new instance store in lr, basically LinearRegression instance store in lr"
   ]
  },
  {
   "cell_type": "code",
   "execution_count": 11,
   "id": "confident-sport",
   "metadata": {},
   "outputs": [
    {
     "data": {
      "text/plain": [
       "LinearRegression()"
      ]
     },
     "execution_count": 11,
     "metadata": {},
     "output_type": "execute_result"
    }
   ],
   "source": [
    "lr.fit(x_train,y_train)  # For model fit in lr"
   ]
  },
  {
   "cell_type": "code",
   "execution_count": 12,
   "id": "wireless-subsection",
   "metadata": {},
   "outputs": [],
   "source": [
    "y_pred=lr.predict(x_test)  # lr predict value store in y_pred"
   ]
  },
  {
   "cell_type": "code",
   "execution_count": 13,
   "id": "painful-rings",
   "metadata": {},
   "outputs": [
    {
     "data": {
      "text/html": [
       "<div>\n",
       "<style scoped>\n",
       "    .dataframe tbody tr th:only-of-type {\n",
       "        vertical-align: middle;\n",
       "    }\n",
       "\n",
       "    .dataframe tbody tr th {\n",
       "        vertical-align: top;\n",
       "    }\n",
       "\n",
       "    .dataframe thead th {\n",
       "        text-align: right;\n",
       "    }\n",
       "</style>\n",
       "<table border=\"1\" class=\"dataframe\">\n",
       "  <thead>\n",
       "    <tr style=\"text-align: right;\">\n",
       "      <th></th>\n",
       "      <th>cured</th>\n",
       "    </tr>\n",
       "  </thead>\n",
       "  <tbody>\n",
       "    <tr>\n",
       "      <th>10300</th>\n",
       "      <td>16609</td>\n",
       "    </tr>\n",
       "    <tr>\n",
       "      <th>3524</th>\n",
       "      <td>44094</td>\n",
       "    </tr>\n",
       "    <tr>\n",
       "      <th>10879</th>\n",
       "      <td>20195</td>\n",
       "    </tr>\n",
       "    <tr>\n",
       "      <th>1283</th>\n",
       "      <td>24</td>\n",
       "    </tr>\n",
       "    <tr>\n",
       "      <th>9763</th>\n",
       "      <td>18508</td>\n",
       "    </tr>\n",
       "  </tbody>\n",
       "</table>\n",
       "</div>"
      ],
      "text/plain": [
       "       cured\n",
       "10300  16609\n",
       "3524   44094\n",
       "10879  20195\n",
       "1283      24\n",
       "9763   18508"
      ]
     },
     "execution_count": 13,
     "metadata": {},
     "output_type": "execute_result"
    }
   ],
   "source": [
    "y_test.head() #actual value\n",
    "# for actual value and predict value compare"
   ]
  },
  {
   "cell_type": "code",
   "execution_count": 14,
   "id": "refined-python",
   "metadata": {},
   "outputs": [
    {
     "data": {
      "text/plain": [
       "array([[17156.04568951],\n",
       "       [72100.29382174],\n",
       "       [20645.48991745],\n",
       "       [ 2250.73879306],\n",
       "       [19325.01498589]])"
      ]
     },
     "execution_count": 14,
     "metadata": {},
     "output_type": "execute_result"
    }
   ],
   "source": [
    "y_pred[0:5] #predict value  \n",
    "#Extra diff/error is called RESIDUAL"
   ]
  },
  {
   "cell_type": "code",
   "execution_count": 15,
   "id": "micro-optimum",
   "metadata": {},
   "outputs": [],
   "source": [
    "# For residual calculate import metrics\n",
    "from sklearn.metrics import mean_squared_error"
   ]
  },
  {
   "cell_type": "code",
   "execution_count": 16,
   "id": "global-words",
   "metadata": {},
   "outputs": [
    {
     "data": {
      "text/plain": [
       "774365050.2804523"
      ]
     },
     "execution_count": 16,
     "metadata": {},
     "output_type": "execute_result"
    }
   ],
   "source": [
    "mean_squared_error(y_test,y_pred)  #for actual and pred value "
   ]
  },
  {
   "cell_type": "code",
   "execution_count": 17,
   "id": "devoted-diving",
   "metadata": {},
   "outputs": [],
   "source": [
    "x = covid[['deaths']]  #independent variable"
   ]
  },
  {
   "cell_type": "code",
   "execution_count": 18,
   "id": "relative-mainland",
   "metadata": {},
   "outputs": [],
   "source": [
    "x_train,x_test,y_train,y_test=train_test_split(x,y,test_size=0.3)  \n",
    "# For 30% going to the test set observation and 70% go to the train set\n",
    "# For 4 result out"
   ]
  },
  {
   "cell_type": "code",
   "execution_count": 19,
   "id": "conscious-failure",
   "metadata": {},
   "outputs": [],
   "source": [
    "lr2 = LinearRegression()  # For create new instance store in lr2, basically LinearRegression instance store in lr2"
   ]
  },
  {
   "cell_type": "code",
   "execution_count": 20,
   "id": "secondary-project",
   "metadata": {},
   "outputs": [
    {
     "data": {
      "text/plain": [
       "LinearRegression()"
      ]
     },
     "execution_count": 20,
     "metadata": {},
     "output_type": "execute_result"
    }
   ],
   "source": [
    "lr2.fit(x_train,y_train)  # For model fit in lr2"
   ]
  },
  {
   "cell_type": "code",
   "execution_count": 21,
   "id": "resident-edmonton",
   "metadata": {},
   "outputs": [],
   "source": [
    "y_pred2=lr.predict(x_test)  # lr predict value store in y_pred"
   ]
  },
  {
   "cell_type": "code",
   "execution_count": 22,
   "id": "practical-agriculture",
   "metadata": {},
   "outputs": [],
   "source": [
    "# For residual calculate import metrics\n",
    "from sklearn.metrics import mean_squared_error"
   ]
  },
  {
   "cell_type": "code",
   "execution_count": 23,
   "id": "popular-electric",
   "metadata": {},
   "outputs": [
    {
     "data": {
      "text/plain": [
       "208813540099.44614"
      ]
     },
     "execution_count": 23,
     "metadata": {},
     "output_type": "execute_result"
    }
   ],
   "source": [
    "mean_squared_error(y_test,y_pred)  #for actual and pred value "
   ]
  },
  {
   "cell_type": "code",
   "execution_count": null,
   "id": "mounted-protection",
   "metadata": {},
   "outputs": [],
   "source": []
  }
 ],
 "metadata": {
  "kernelspec": {
   "display_name": "Python 3",
   "language": "python",
   "name": "python3"
  },
  "language_info": {
   "codemirror_mode": {
    "name": "ipython",
    "version": 3
   },
   "file_extension": ".py",
   "mimetype": "text/x-python",
   "name": "python",
   "nbconvert_exporter": "python",
   "pygments_lexer": "ipython3",
   "version": "3.8.5"
  }
 },
 "nbformat": 4,
 "nbformat_minor": 5
}
